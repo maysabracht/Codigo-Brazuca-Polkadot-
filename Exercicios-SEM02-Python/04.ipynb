{
 "cells": [
  {
   "cell_type": "code",
   "execution_count": null,
   "metadata": {},
   "outputs": [],
   "source": [
    "temperatura = int(input(\"Qual é a temperatura atual? \"))\n",
    "if temperatura >=30:\n",
    "  print(\"Hoje está calor.\")\n",
    "elif temperatura >=15 <=30:\n",
    "  print(\"Hoje o clima está agradável.\")\n",
    "else:\n",
    "  print(\"Hoje está frio.\")"
   ]
  }
 ],
 "metadata": {
  "language_info": {
   "name": "python"
  }
 },
 "nbformat": 4,
 "nbformat_minor": 2
}
