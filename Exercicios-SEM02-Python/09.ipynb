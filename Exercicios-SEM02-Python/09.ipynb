{
 "cells": [
  {
   "cell_type": "code",
   "execution_count": null,
   "metadata": {},
   "outputs": [],
   "source": [
    "texto = input(\"Digite uma frase: \")\n",
    "letra = input(\"Digite a letra que você quer contar: \")\n",
    "texto = texto.lower()\n",
    "letra = letra.lower()\n",
    "contagem = texto.count(letra)\n",
    "print(f\"A letra '{letra}' aparece {contagem} vezes na frase.\")"
   ]
  }
 ],
 "metadata": {
  "language_info": {
   "name": "python"
  }
 },
 "nbformat": 4,
 "nbformat_minor": 2
}
