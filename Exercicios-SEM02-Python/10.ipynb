{
 "cells": [
  {
   "cell_type": "code",
   "execution_count": null,
   "metadata": {},
   "outputs": [
    {
     "ename": "",
     "evalue": "",
     "output_type": "error",
     "traceback": [
      "\u001b[1;31mRunning cells with 'Python' requires the ipykernel package.\n",
      "\u001b[1;31mRun the following command to install 'ipykernel' into the Python environment. \n",
      "\u001b[1;31mCommand: '/usr/bin/python3 -m pip install ipykernel -U --user --force-reinstall'"
     ]
    }
   ],
   "source": [
    "def primo(numero):\n",
    "    if numero <= 1:\n",
    "        return False\n",
    "    for i in range(2, int(numero ** 0.5) + 1):\n",
    "        if numero % i == 0:\n",
    "            return False\n",
    "    return True\n",
    "\n",
    "def encontrar_primos_no_intervalo(inicio, fim):\n",
    "    primos = []\n",
    "    for num in range(inicio, fim + 1):\n",
    "        if primo(num):\n",
    "            primos.append(num)\n",
    "    return primos\n",
    "\n",
    "inicio = int(input(\"Digite o início do intervalo: \"))\n",
    "fim = int(input(\"Digite o fim do intervalo: \"))\n",
    "\n",
    "primos_encontrados = encontrar_primos_no_intervalo(inicio, fim)\n",
    "print(f\"Os números primos no intervalo de {inicio} a {fim} são:\")\n",
    "print(primos_encontrados)"
   ]
  }
 ],
 "metadata": {
  "kernelspec": {
   "display_name": "Python 3",
   "language": "python",
   "name": "python3"
  },
  "language_info": {
   "name": "python"
  }
 },
 "nbformat": 4,
 "nbformat_minor": 2
}
