{
 "cells": [
  {
   "cell_type": "code",
   "execution_count": null,
   "metadata": {},
   "outputs": [],
   "source": [
    "a = int(input(\"Qual é o primeiro número? \"))\n",
    "b = int(input(\"Qual é o segundo número? \"))\n",
    "soma = a + b\n",
    "produto = a * b\n",
    "resto = a - b\n",
    "quociente = a / b\n",
    "print(\"Soma: \", soma)\n",
    "print(\"Produto: \", produto)\n",
    "print(\"Resto: \", resto)\n",
    "print(\"Quociente: \", quociente)"
   ]
  }
 ],
 "metadata": {
  "language_info": {
   "name": "python"
  }
 },
 "nbformat": 4,
 "nbformat_minor": 2
}
