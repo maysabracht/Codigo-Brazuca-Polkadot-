{
 "cells": [
  {
   "cell_type": "code",
   "execution_count": null,
   "metadata": {},
   "outputs": [],
   "source": [
    "compras = []\n",
    "\n",
    "while True:\n",
    "    import_item = input(\"Digite um item para ser adicionado à lista (ou 'ver' para finalizar): \")\n",
    "\n",
    "    if import_item == 'ver':\n",
    "        break\n",
    "\n",
    "    compras.append(import_item)\n",
    "\n",
    "print(\"Lista de compras:\")\n",
    "for item in compras:\n",
    "    print(item)"
   ]
  }
 ],
 "metadata": {
  "language_info": {
   "name": "python"
  }
 },
 "nbformat": 4,
 "nbformat_minor": 2
}
