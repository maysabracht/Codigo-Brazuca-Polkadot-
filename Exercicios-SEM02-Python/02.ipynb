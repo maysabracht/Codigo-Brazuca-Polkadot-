{
 "cells": [
  {
   "cell_type": "code",
   "execution_count": null,
   "metadata": {},
   "outputs": [],
   "source": [
    "filme = input(\"Qual é o seu filme favorito? \")\n",
    "ano = input(\"Em que ano ele foi lançado? \")\n",
    "print(\"Então seu filme favorito é: \" +filme + \", lançado em \" + ano + \".\")"
   ]
  }
 ],
 "metadata": {
  "language_info": {
   "name": "python"
  }
 },
 "nbformat": 4,
 "nbformat_minor": 2
}
