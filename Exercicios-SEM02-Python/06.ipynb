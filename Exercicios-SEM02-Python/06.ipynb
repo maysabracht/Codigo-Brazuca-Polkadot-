{
 "cells": [
  {
   "cell_type": "code",
   "execution_count": null,
   "metadata": {},
   "outputs": [],
   "source": [
    "soma = 0\n",
    "a = int(input(\"Digite um número para somar, digite 0 para ver o resultado:\"))\n",
    "\n",
    "while a != 0:\n",
    "    soma += a\n",
    "    a = int(input(\"Digite outro número para somar, ou 0 para ver o resultado:\"))\n",
    "\n",
    "print(\"A soma dos números digitados é:\", soma)"
   ]
  }
 ],
 "metadata": {
  "language_info": {
   "name": "python"
  }
 },
 "nbformat": 4,
 "nbformat_minor": 2
}
