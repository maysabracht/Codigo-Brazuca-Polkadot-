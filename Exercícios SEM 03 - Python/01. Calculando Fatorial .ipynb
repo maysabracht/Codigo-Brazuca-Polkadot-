{
 "cells": [
  {
   "cell_type": "code",
   "execution_count": null,
   "metadata": {},
   "outputs": [],
   "source": [
    "def factorial(number):\n",
    "    result = 1 #Deve ir multiplicando até chegar a 1, ou seja (7*6*5*4*3*2*1)\n",
    "    for i in range(1, number + 1):\n",
    "        result *= i\n",
    "    return result\n",
    "\n",
    "number = int(input(\"Enter a number to calculate the factorial: \"))\n",
    "print(f\"The factorial of {number} is {factorial(number)}\")"
   ]
  }
 ],
 "metadata": {
  "language_info": {
   "name": "python"
  }
 },
 "nbformat": 4,
 "nbformat_minor": 2
}
