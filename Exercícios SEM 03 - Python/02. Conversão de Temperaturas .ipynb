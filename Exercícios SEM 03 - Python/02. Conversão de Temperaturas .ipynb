{
 "cells": [
  {
   "cell_type": "code",
   "execution_count": 1,
   "metadata": {},
   "outputs": [
    {
     "name": "stdout",
     "output_type": "stream",
     "text": [
      "The temperature is: 98.6 °F, and 310.15 K.\n"
     ]
    }
   ],
   "source": [
    "celsius = float(input(\"What is the temperature in celsius? \")) #Int = número inteiro, Float = permite números decimais, use float when precision is needed\n",
    "fahrenheit = ((celsius) * 9/5) + 32\n",
    "kelvin = (celsius) + 273.15\n",
    "\n",
    "print(\"The temperature is: \" + str(fahrenheit) + \" °F, and \" + str(kelvin) + \" K.\") #Precisa do str para que a sentença (, + word + )funcione como texto ao invés de uma adição"
   ]
  }
 ],
 "metadata": {
  "kernelspec": {
   "display_name": "Python 3",
   "language": "python",
   "name": "python3"
  },
  "language_info": {
   "codemirror_mode": {
    "name": "ipython",
    "version": 3
   },
   "file_extension": ".py",
   "mimetype": "text/x-python",
   "name": "python",
   "nbconvert_exporter": "python",
   "pygments_lexer": "ipython3",
   "version": "3.9.6"
  }
 },
 "nbformat": 4,
 "nbformat_minor": 2
}
